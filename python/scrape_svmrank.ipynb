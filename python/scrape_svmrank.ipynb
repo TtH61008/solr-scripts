{
 "cells": [
  {
   "cell_type": "markdown",
   "metadata": {},
   "source": [
    "クエリセットの用意\n",
    "クエリに対するドキュメントセットの用意\n",
    "スコアのゲット"
   ]
  },
  {
   "cell_type": "code",
   "execution_count": null,
   "metadata": {},
   "outputs": [],
   "source": [
    "# 準備\n",
    "!pip3 install pandas requests janome\n",
    "!wget http://download.joachims.org/svm_rank/current/svm_rank_linux64.tar.gz\n",
    "!tar -zxvf svm_rank_linux64.tar.gz \n"
   ]
  },
  {
   "cell_type": "code",
   "execution_count": 5,
   "metadata": {},
   "outputs": [],
   "source": [
    "import pandas as pd\n",
    "pd.set_option('display.max_rows', 200)\n",
    "import requests\n",
    "import random\n",
    "random.seed(0)\n",
    "\n",
    "from janome.tokenizer import Tokenizer\n",
    "tokenizer = Tokenizer()\n",
    "\n",
    "\n",
    "def token_diversificate(token):\n",
    "    rand = random.random()\n",
    "    if rand < 0.7:\n",
    "        return token.surface\n",
    "    elif rand < 0.80:\n",
    "        return token.reading\n",
    "    elif rand < 0.90:\n",
    "        return token.surface[:len(token.surface)-1]\n",
    "    else:\n",
    "        return token.surface[1:]\n",
    "\n",
    "\n",
    "def query_diversificate(query):\n",
    "    return \"\".join([token_diversificate(token) for token in tokenizer.tokenize(query)])\n",
    "    \n",
    "solr_endpoint=\"http://localhost:8983/solr/fukuoka/select\""
   ]
  },
  {
   "cell_type": "code",
   "execution_count": 15,
   "metadata": {},
   "outputs": [
    {
     "data": {
      "text/html": [
       "<div>\n",
       "<style scoped>\n",
       "    .dataframe tbody tr th:only-of-type {\n",
       "        vertical-align: middle;\n",
       "    }\n",
       "\n",
       "    .dataframe tbody tr th {\n",
       "        vertical-align: top;\n",
       "    }\n",
       "\n",
       "    .dataframe thead th {\n",
       "        text-align: right;\n",
       "    }\n",
       "</style>\n",
       "<table border=\"1\" class=\"dataframe\">\n",
       "  <thead>\n",
       "    <tr style=\"text-align: right;\">\n",
       "      <th></th>\n",
       "      <th>name</th>\n",
       "      <th>query</th>\n",
       "    </tr>\n",
       "  </thead>\n",
       "  <tbody>\n",
       "    <tr>\n",
       "      <th>85</th>\n",
       "      <td>福岡市博物館</td>\n",
       "      <td>フクオカ市ハクブツカン</td>\n",
       "    </tr>\n",
       "    <tr>\n",
       "      <th>17</th>\n",
       "      <td>障がい者スポーツセンター</td>\n",
       "      <td>障がいスポーセンター</td>\n",
       "    </tr>\n",
       "    <tr>\n",
       "      <th>50</th>\n",
       "      <td>水産加工センター運動広場</td>\n",
       "      <td>水工センター運動場</td>\n",
       "    </tr>\n",
       "    <tr>\n",
       "      <th>12</th>\n",
       "      <td>中央市民プール</td>\n",
       "      <td>中央市プール</td>\n",
       "    </tr>\n",
       "    <tr>\n",
       "      <th>52</th>\n",
       "      <td>総合図書館</td>\n",
       "      <td>総合図書館</td>\n",
       "    </tr>\n",
       "    <tr>\n",
       "      <th>46</th>\n",
       "      <td>博多南地域交流センター</td>\n",
       "      <td>博多南地域交流センター</td>\n",
       "    </tr>\n",
       "    <tr>\n",
       "      <th>37</th>\n",
       "      <td>舞鶴公園</td>\n",
       "      <td>舞鶴公園</td>\n",
       "    </tr>\n",
       "    <tr>\n",
       "      <th>25</th>\n",
       "      <td>香椎浜公園</td>\n",
       "      <td>香椎園</td>\n",
       "    </tr>\n",
       "    <tr>\n",
       "      <th>11</th>\n",
       "      <td>博多市民プール</td>\n",
       "      <td>博多民ール</td>\n",
       "    </tr>\n",
       "    <tr>\n",
       "      <th>82</th>\n",
       "      <td>博多南地域交流センター</td>\n",
       "      <td>博多南地域交流センター</td>\n",
       "    </tr>\n",
       "  </tbody>\n",
       "</table>\n",
       "</div>"
      ],
      "text/plain": [
       "            name        query\n",
       "85        福岡市博物館  フクオカ市ハクブツカン\n",
       "17  障がい者スポーツセンター   障がいスポーセンター\n",
       "50  水産加工センター運動広場    水工センター運動場\n",
       "12       中央市民プール       中央市プール\n",
       "52         総合図書館        総合図書館\n",
       "46   博多南地域交流センター  博多南地域交流センター\n",
       "37          舞鶴公園         舞鶴公園\n",
       "25         香椎浜公園          香椎園\n",
       "11       博多市民プール        博多民ール\n",
       "82   博多南地域交流センター  博多南地域交流センター"
      ]
     },
     "execution_count": 15,
     "metadata": {},
     "output_type": "execute_result"
    }
   ],
   "source": [
    "df_all_spots.sample(10)[[\"name\",\"query\"]]"
   ]
  },
  {
   "cell_type": "code",
   "execution_count": 7,
   "metadata": {},
   "outputs": [],
   "source": [
    "# Solrから全件取得することで、idと施設名の対応を取得する\n",
    "# 今回の例では施設が100件に満たないためrows=100でリクエストを送っている\n",
    "\n",
    "r = requests.get(solr_endpoint, params={\"q\":\"*:*\", \"rows\":\"100\"})\n",
    "dict_all_spots = r.json()[\"response\"][\"docs\"]\n",
    "df_all_spots = pd.DataFrame.from_dict(dict_all_spots)\n",
    "\n",
    "# nameに誤変換や脱字を加えることで揺らしたクエリを作成する\n",
    "df_all_spots[\"query\"] = df_all_spots[\"name\"].map(query_diversificate)\n",
    "\n",
    "# 学習時に必要となるリクエストごとの通し番号`qid`を振る\n",
    "df_all_spots[\"qid\"] = range(len(df_all_spots))\n",
    "\n",
    "# qidに対する施設のidが正例となるので、ここで結び付けて置く、のちに特徴量テーブルとjoinする\n",
    "df_query2id_poslabel = df_all_spots[[\"qid\", \"id\"]].copy()\n",
    "df_query2id_poslabel[\"label\"]=1"
   ]
  },
  {
   "cell_type": "code",
   "execution_count": 17,
   "metadata": {},
   "outputs": [],
   "source": [
    "# requestsを送ってid2scoreをgetする関数\n",
    "\n",
    "def get_query2scores(query, field):\n",
    "    payload = {\n",
    "        \"q\":f\"{field}:({query})\",\n",
    "        \"fl\":\"id,score\",\n",
    "        \"rows\":\"100\"\n",
    "    }\n",
    "    r = requests.get(solr_endpoint, params=payload)\n",
    "    dict_query2scores = r.json()[\"response\"][\"docs\"]\n",
    "    return pd.DataFrame.from_dict(dict_query2scores).rename(columns={\"score\":f\"{field}_score\"})\n",
    "\n",
    "def get_query2scores_with_qid(query, field, qid):\n",
    "    query2scores = get_query2scores(query, field)\n",
    "    query2scores[\"qid\"] = qid\n",
    "    return query2scores"
   ]
  },
  {
   "cell_type": "code",
   "execution_count": 18,
   "metadata": {},
   "outputs": [],
   "source": [
    "# 各フィールドでのスコアを取得\n",
    "scores_name = pd.concat([get_query2scores_with_qid(query, \"name\", qid) for query,qid in zip(df_all_spots[\"query\"], df_all_spots[\"qid\"])])\n",
    "scores_name_yomi = pd.concat([get_query2scores_with_qid(query, \"name_yomi\", qid) for query,qid in zip(df_all_spots[\"query\"], df_all_spots[\"qid\"])])\n",
    "scores_name_ngram  = pd.concat([get_query2scores_with_qid(query, \"name_ngram\", qid) for query,qid in zip(df_all_spots[\"query\"], df_all_spots[\"qid\"])])"
   ]
  },
  {
   "cell_type": "code",
   "execution_count": 19,
   "metadata": {},
   "outputs": [],
   "source": [
    "# scoreをjoinする、あるフィールドへの検索で出たがあるフィールドで出なかったアイテムはSolr上でスコア0となるため、outer joinして0埋めしている\n",
    "\n",
    "scores = scores_name.merge(scores_name_yomi, how=\"outer\", on=[\"qid\", \"id\"]).merge(scores_name_ngram, how=\"outer\", on=[\"qid\", \"id\"]).fillna(0)"
   ]
  },
  {
   "cell_type": "code",
   "execution_count": 20,
   "metadata": {},
   "outputs": [],
   "source": [
    "# qidに対する正解施設IDをjoinし、それ以外の施設はラベルを0埋めする\n",
    "scores_with_label = scores.merge(df_query2id_poslabel, on=[\"qid\", \"id\"],how=\"left\").fillna(0)\n",
    "# scores_with_label[\"label\"] = scores_with_label[\"label\"].astype(\"int\")"
   ]
  },
  {
   "cell_type": "code",
   "execution_count": 21,
   "metadata": {},
   "outputs": [],
   "source": [
    "# pair-wise学習では同じqid内の異なるラベル同士でのスコア差を用いて学習する\n",
    "# 1つのqidに対して1つのlabelしか結び付いていない場合は学習にも評価にも使用できない\n",
    "# qid2unique_label_cntそのためデータから除いている\n",
    "\n",
    "qid2unique_label_cnt = scores_with_label.groupby(\"qid\")[\"label\"].nunique().reset_index()\n",
    "qid_only_same_label = qid2unique_label_cnt[qid2unique_label_cnt[\"label\"] == 1][\"qid\"]\n",
    "scores_dropped_only_same_label = scores_with_label[~scores_with_label[\"qid\"].isin(qid_only_same_label)].sort_values(\"qid\")"
   ]
  },
  {
   "cell_type": "code",
   "execution_count": 22,
   "metadata": {},
   "outputs": [],
   "source": [
    "# svm_rank用に特徴量を`通し番号:数値`の形式に書き換えている\n",
    "\n",
    "train_qid = scores_dropped_only_same_label[\"qid\"].drop_duplicates().sample(frac=0.5, random_state=0)\n",
    "df_train = scores_dropped_only_same_label[scores_dropped_only_same_label[\"qid\"].isin(train_qid)]\n",
    "df_train4svm_rank = df_train[[\"label\"]].copy()\n",
    "df_train4svm_rank[\"qid\"] = df_train[\"qid\"].map(lambda x:f\"qid:{x}\")\n",
    "df_train4svm_rank[\"name_score\"] = df_train[\"name_score\"].map(lambda x:f\"1:{x}\")\n",
    "df_train4svm_rank[\"name_yomi_score\"] = df_train[\"name_yomi_score\"].map(lambda x:f\"2:{x}\")\n",
    "df_train4svm_rank[\"name_ngram_score\"] = df_train[\"name_ngram_score\"].map(lambda x:f\"3:{x}\")\n",
    "df_train4svm_rank.to_csv(\"./train.dat\", index=False, header=False, sep=\" \")\n",
    "df_test = scores_dropped_only_same_label[~scores_dropped_only_same_label[\"qid\"].isin(train_qid)].copy()\n",
    "df_test.to_csv(\"./test.tsv\", index=False, sep=\"\\t\")"
   ]
  },
  {
   "cell_type": "code",
   "execution_count": 23,
   "metadata": {},
   "outputs": [
    {
     "data": {
      "text/html": [
       "<div>\n",
       "<style scoped>\n",
       "    .dataframe tbody tr th:only-of-type {\n",
       "        vertical-align: middle;\n",
       "    }\n",
       "\n",
       "    .dataframe tbody tr th {\n",
       "        vertical-align: top;\n",
       "    }\n",
       "\n",
       "    .dataframe thead th {\n",
       "        text-align: right;\n",
       "    }\n",
       "</style>\n",
       "<table border=\"1\" class=\"dataframe\">\n",
       "  <thead>\n",
       "    <tr style=\"text-align: right;\">\n",
       "      <th></th>\n",
       "      <th>id</th>\n",
       "      <th>name_score</th>\n",
       "      <th>qid</th>\n",
       "      <th>name_yomi_score</th>\n",
       "      <th>name_ngram_score</th>\n",
       "      <th>label</th>\n",
       "    </tr>\n",
       "  </thead>\n",
       "  <tbody>\n",
       "    <tr>\n",
       "      <th>0</th>\n",
       "      <td>5dbe04fa-9937-4b65-ab04-4eabf0322896</td>\n",
       "      <td>1.145546</td>\n",
       "      <td>0</td>\n",
       "      <td>1.145546</td>\n",
       "      <td>2.453156</td>\n",
       "      <td>0.0</td>\n",
       "    </tr>\n",
       "    <tr>\n",
       "      <th>1291</th>\n",
       "      <td>0abf9d0c-6f05-4d14-951d-9f7cfedf0638</td>\n",
       "      <td>0.000000</td>\n",
       "      <td>0</td>\n",
       "      <td>0.756985</td>\n",
       "      <td>0.000000</td>\n",
       "      <td>0.0</td>\n",
       "    </tr>\n",
       "    <tr>\n",
       "      <th>1292</th>\n",
       "      <td>f33d727a-8354-45a3-8222-d6bb82139fa8</td>\n",
       "      <td>0.000000</td>\n",
       "      <td>0</td>\n",
       "      <td>0.756985</td>\n",
       "      <td>0.000000</td>\n",
       "      <td>0.0</td>\n",
       "    </tr>\n",
       "    <tr>\n",
       "      <th>1293</th>\n",
       "      <td>00331b3b-c9f3-461b-9991-87c6cf5c05cf</td>\n",
       "      <td>0.000000</td>\n",
       "      <td>0</td>\n",
       "      <td>0.756985</td>\n",
       "      <td>0.000000</td>\n",
       "      <td>0.0</td>\n",
       "    </tr>\n",
       "    <tr>\n",
       "      <th>1294</th>\n",
       "      <td>83fd5dc4-078a-4515-82b6-5665c518f1ae</td>\n",
       "      <td>0.000000</td>\n",
       "      <td>0</td>\n",
       "      <td>0.756985</td>\n",
       "      <td>0.000000</td>\n",
       "      <td>0.0</td>\n",
       "    </tr>\n",
       "    <tr>\n",
       "      <th>...</th>\n",
       "      <td>...</td>\n",
       "      <td>...</td>\n",
       "      <td>...</td>\n",
       "      <td>...</td>\n",
       "      <td>...</td>\n",
       "      <td>...</td>\n",
       "    </tr>\n",
       "    <tr>\n",
       "      <th>1263</th>\n",
       "      <td>9ed6f5be-f3f7-457c-8aa9-7b3941cc0bba</td>\n",
       "      <td>0.683343</td>\n",
       "      <td>86</td>\n",
       "      <td>0.683343</td>\n",
       "      <td>2.015928</td>\n",
       "      <td>0.0</td>\n",
       "    </tr>\n",
       "    <tr>\n",
       "      <th>1264</th>\n",
       "      <td>60a1e4a4-a26a-41cb-ac52-ad89fc08b3dc</td>\n",
       "      <td>0.603847</td>\n",
       "      <td>86</td>\n",
       "      <td>0.603847</td>\n",
       "      <td>1.676440</td>\n",
       "      <td>0.0</td>\n",
       "    </tr>\n",
       "    <tr>\n",
       "      <th>1265</th>\n",
       "      <td>2e4b72f5-2b3b-4047-a111-381e3d9a8ae5</td>\n",
       "      <td>0.603847</td>\n",
       "      <td>86</td>\n",
       "      <td>0.603847</td>\n",
       "      <td>1.507225</td>\n",
       "      <td>0.0</td>\n",
       "    </tr>\n",
       "    <tr>\n",
       "      <th>1266</th>\n",
       "      <td>886e4320-e44c-4ee6-ad65-53fc2f27ea4f</td>\n",
       "      <td>0.603847</td>\n",
       "      <td>86</td>\n",
       "      <td>0.603847</td>\n",
       "      <td>1.676440</td>\n",
       "      <td>0.0</td>\n",
       "    </tr>\n",
       "    <tr>\n",
       "      <th>1256</th>\n",
       "      <td>5f6a9a33-e87a-4e48-8f65-9dd41cfddea7</td>\n",
       "      <td>0.683343</td>\n",
       "      <td>86</td>\n",
       "      <td>0.683343</td>\n",
       "      <td>1.888454</td>\n",
       "      <td>0.0</td>\n",
       "    </tr>\n",
       "  </tbody>\n",
       "</table>\n",
       "<p>748 rows × 6 columns</p>\n",
       "</div>"
      ],
      "text/plain": [
       "                                        id  name_score  qid  name_yomi_score  \\\n",
       "0     5dbe04fa-9937-4b65-ab04-4eabf0322896    1.145546    0         1.145546   \n",
       "1291  0abf9d0c-6f05-4d14-951d-9f7cfedf0638    0.000000    0         0.756985   \n",
       "1292  f33d727a-8354-45a3-8222-d6bb82139fa8    0.000000    0         0.756985   \n",
       "1293  00331b3b-c9f3-461b-9991-87c6cf5c05cf    0.000000    0         0.756985   \n",
       "1294  83fd5dc4-078a-4515-82b6-5665c518f1ae    0.000000    0         0.756985   \n",
       "...                                    ...         ...  ...              ...   \n",
       "1263  9ed6f5be-f3f7-457c-8aa9-7b3941cc0bba    0.683343   86         0.683343   \n",
       "1264  60a1e4a4-a26a-41cb-ac52-ad89fc08b3dc    0.603847   86         0.603847   \n",
       "1265  2e4b72f5-2b3b-4047-a111-381e3d9a8ae5    0.603847   86         0.603847   \n",
       "1266  886e4320-e44c-4ee6-ad65-53fc2f27ea4f    0.603847   86         0.603847   \n",
       "1256  5f6a9a33-e87a-4e48-8f65-9dd41cfddea7    0.683343   86         0.683343   \n",
       "\n",
       "      name_ngram_score  label  \n",
       "0             2.453156    0.0  \n",
       "1291          0.000000    0.0  \n",
       "1292          0.000000    0.0  \n",
       "1293          0.000000    0.0  \n",
       "1294          0.000000    0.0  \n",
       "...                ...    ...  \n",
       "1263          2.015928    0.0  \n",
       "1264          1.676440    0.0  \n",
       "1265          1.507225    0.0  \n",
       "1266          1.676440    0.0  \n",
       "1256          1.888454    0.0  \n",
       "\n",
       "[748 rows x 6 columns]"
      ]
     },
     "execution_count": 23,
     "metadata": {},
     "output_type": "execute_result"
    }
   ],
   "source": [
    "df_test"
   ]
  },
  {
   "cell_type": "code",
   "execution_count": 24,
   "metadata": {},
   "outputs": [
    {
     "name": "stdout",
     "output_type": "stream",
     "text": [
      "Reading training examples...done\n",
      "Training set properties: 3 features, 42 rankings, 844 examples\n",
      "NOTE: Adjusted stopping criterion relative to maximum loss: eps=0.019095\n",
      "Iter 1: .........*(NumConst=1, SV=1, CEps=19.0952, QPEps=0.0000)\n",
      "Iter 2: .........*(NumConst=2, SV=1, CEps=4.6874, QPEps=0.0000)\n",
      "Iter 3: .........*(NumConst=3, SV=1, CEps=2.7067, QPEps=0.0000)\n",
      "Iter 4: .........*(NumConst=4, SV=1, CEps=1.4227, QPEps=0.6373)\n",
      "Iter 5: .........*(NumConst=5, SV=2, CEps=1.3502, QPEps=0.0000)\n",
      "Iter 6: .........*(NumConst=6, SV=3, CEps=0.5485, QPEps=0.0665)\n",
      "Iter 7: .........*(NumConst=7, SV=3, CEps=0.1737, QPEps=0.0162)\n",
      "Iter 8: .........*(NumConst=8, SV=3, CEps=0.0536, QPEps=0.0087)\n",
      "Iter 9: .........*(NumConst=9, SV=2, CEps=0.0229, QPEps=0.0000)\n",
      "Iter 10: .........(NumConst=9, SV=2, CEps=0.0124, QPEps=0.0000)\n",
      "Final epsilon on KKT-Conditions: 0.01235\n",
      "Upper bound on duality gap: 0.03702\n",
      "Dual objective value: dval=4.57710\n",
      "Primal objective value: pval=4.61412\n",
      "Total number of constraints in final working set: 9 (of 9)\n",
      "Number of iterations: 10\n",
      "Number of calls to 'find_most_violated_constraint': 420\n",
      "Number of SV: 2 \n",
      "Norm of weight vector: |w|=1.00178\n",
      "Value of slack variable (on working set): xi=1.35844\n",
      "Value of slack variable (global): xi=1.37078\n",
      "Norm of longest difference vector: ||Psi(x,y)-Psi(x,ybar)||=86.44690\n",
      "Runtime in cpu-seconds: 0.01\n",
      "Compacting linear model...done\n",
      "Writing learned model...done\n",
      "SVM-light Version V6.20\n",
      "0 # kernel type\n",
      "3 # kernel parameter -d \n",
      "1 # kernel parameter -g \n",
      "1 # kernel parameter -s \n",
      "1 # kernel parameter -r \n",
      "empty# kernel parameter -u \n",
      "4 # highest feature index \n",
      "9 # number of training documents \n",
      "2 # number of support vectors plus 1 \n",
      "0 # threshold b, each following line is a SV (starting with alpha*y)\n",
      "1 1:0.082438953 2:0.67509377 3:0.73553967 #\n"
     ]
    }
   ],
   "source": [
    "!./svm_rank_learn -c 3 train.dat\n",
    "!cat svm_struct_model"
   ]
  },
  {
   "cell_type": "code",
   "execution_count": 3,
   "metadata": {},
   "outputs": [],
   "source": [
    "df_test = pd.read_csv(\"./test.tsv\", sep=\"\\t\")"
   ]
  },
  {
   "cell_type": "code",
   "execution_count": 4,
   "metadata": {},
   "outputs": [],
   "source": [
    "# svm rank結果の取得\n",
    "# Solrの仕様でscoreの係数をマイナスにすることはできないので、マイナスの場合は0に置き換えている\n",
    "\n",
    "with open(\"svm_struct_model\") as f:\n",
    "    svm_rank_result = f.readlines()[-1].split()\n",
    "\n",
    "coef_name_score = float(svm_rank_result[1].split(\":\")[1]) if float(svm_rank_result[1].split(\":\")[1]) > 0 else 0 \n",
    "coef_name_yomi_score = float(svm_rank_result[2].split(\":\")[1]) if float(svm_rank_result[2].split(\":\")[1]) > 0 else 0\n",
    "coef_name_ngram_score = float(svm_rank_result[3].split(\":\")[1]) if float(svm_rank_result[3].split(\":\")[1]) > 0 else 0\n"
   ]
  },
  {
   "cell_type": "code",
   "execution_count": 8,
   "metadata": {},
   "outputs": [],
   "source": [
    "df_test[\"ml_score\"] = coef_name_score* df_test[\"name_score\"] + coef_name_yomi_score*df_test[\"name_yomi_score\"] + coef_name_ngram_score*df_test[\"name_ngram_score\"]"
   ]
  },
  {
   "cell_type": "code",
   "execution_count": 9,
   "metadata": {},
   "outputs": [
    {
     "name": "stdout",
     "output_type": "stream",
     "text": [
      "name_scoreソートのaccuracy: 71%\n",
      "name_yomi_scoreソートのaccuracy: 76%\n",
      "name_ngram_scoreソートのaccuracy: 78%\n",
      "ml_scoreソートのaccuracy: 90%\n"
     ]
    }
   ],
   "source": [
    "df4eval = df_test.groupby(\"qid\").idxmax().reset_index()\n",
    "for field in [\"name_score\", \"name_yomi_score\", \"name_ngram_score\", \"ml_score\"]:\n",
    "    accuracy = len(df4eval[df4eval[\"label\"] == df4eval[field]])/len(df4eval)\n",
    "    print(f\"{field}ソートのaccuracy: {int(accuracy*100)}%\")"
   ]
  },
  {
   "cell_type": "code",
   "execution_count": 24,
   "metadata": {},
   "outputs": [],
   "source": [
    "# 試しに投げてみる\n",
    "\n",
    "def ml_ranked_search(query):\n",
    "    payload = {\n",
    "        \"q\":f\"name:({query})^{coef_name_score} OR name_yomi:({query})^{coef_name_yomi_score} OR name_ngram:({query})^{coef_name_ngram_score}\",\n",
    "        \"fl\":\"name,score\"\n",
    "    }\n",
    "    r = requests.get(solr_endpoint, params=payload)\n",
    "    print(r.url)\n",
    "    return r.json()[\"response\"][\"docs\"]"
   ]
  },
  {
   "cell_type": "code",
   "execution_count": 26,
   "metadata": {},
   "outputs": [
    {
     "name": "stdout",
     "output_type": "stream",
     "text": [
      "http://localhost:8983/solr/fukuoka/select?q=name%3A%28%E3%81%B5%E3%81%8F%E3%81%8A%E3%81%8B%E3%80%80%E4%BD%93%E8%82%B2%29%5E0.082438953+OR+name_yomi%3A%28%E3%81%B5%E3%81%8F%E3%81%8A%E3%81%8B%E3%80%80%E4%BD%93%E8%82%B2%29%5E0.67509377+OR+name_ngram%3A%28%E3%81%B5%E3%81%8F%E3%81%8A%E3%81%8B%E3%80%80%E4%BD%93%E8%82%B2%29%5E0.73553967&fl=name%2Cscore\n",
      "[{'name': '福岡市民体育館', 'score': 1.2686647}, {'name': '福岡市総合体育館', 'score': 1.1592816}, {'name': '東体育館', 'score': 0.9021969}, {'name': '南体育館', 'score': 0.9021969}, {'name': '西体育館', 'score': 0.9021969}, {'name': '博多体育館', 'score': 0.83179194}, {'name': '中央体育館', 'score': 0.83179194}, {'name': '城南体育館', 'score': 0.83179194}, {'name': '早良体育館', 'score': 0.83179194}, {'name': 'ももち体育館', 'score': 0.77158}]\n"
     ]
    }
   ],
   "source": [
    "print(ml_ranked_search(\"ふくおか　体育\"))"
   ]
  },
  {
   "cell_type": "code",
   "execution_count": null,
   "metadata": {},
   "outputs": [],
   "source": []
  }
 ],
 "metadata": {
  "kernelspec": {
   "display_name": "Python 3",
   "language": "python",
   "name": "python3"
  },
  "language_info": {
   "codemirror_mode": {
    "name": "ipython",
    "version": 3
   },
   "file_extension": ".py",
   "mimetype": "text/x-python",
   "name": "python",
   "nbconvert_exporter": "python",
   "pygments_lexer": "ipython3",
   "version": "3.7.6"
  }
 },
 "nbformat": 4,
 "nbformat_minor": 4
}
